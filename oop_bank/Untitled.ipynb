{
 "cells": [
  {
   "cell_type": "code",
   "execution_count": 3,
   "id": "bbbc48e6-f178-4e3c-828a-080622aef8e3",
   "metadata": {},
   "outputs": [],
   "source": [
    "class Bank_Acc:\n",
    "    def __init__(self , username,initial_amount):\n",
    "        self._username=username\n",
    "        self._initial_amount=initial_amount\n",
    "        record=[]\n",
    "        record.append(f\"username:{self._username}\")\n",
    "        record.append(f\"Balance:{self._initial_amount}\")\n",
    "        print(record)\n",
    "        print(f\"Your Bank Details Here : \\n Your Username is :{self._username} \\n Your Balance is :{self._initial_amount}\")\n",
    "    def get_name(self):\n",
    "        return self._username\n",
    "    def set_name(self,username):\n",
    "        self._username=username\n",
    "    def get_bal(self):\n",
    "        return self._initial_amount\n",
    "    def set_bal(self,initial_amount):\n",
    "        self._initial_amount=initial_amount\n",
    "        \n",
    "    def check_bal(self):\n",
    "        print(f\"Your Current Balance is :{self._initial_amount}\")\n",
    "    def with_draw(self,amount):\n",
    "         self._initial_amount -= amount\n",
    "         print(f\"your amount has been detected\")\n",
    "         print(f\"Now your updating amount is :{self._initial_amount}\")\n",
    "    def deposite(self,amount):\n",
    "         self._initial_amount += amount\n",
    "         print(f\"your amount has been transfered\")\n",
    "         print(f\"Now your updating amount is :{self._initial_amount}\")\n",
    "    \n",
    "        \n",
    "        \n",
    "    "
   ]
  },
  {
   "cell_type": "code",
   "execution_count": 7,
   "id": "02a6dd45-7a12-48b2-b722-ce99435d9bd1",
   "metadata": {},
   "outputs": [
    {
     "name": "stdout",
     "output_type": "stream",
     "text": [
      "['username:Aman', 'Balance:100']\n",
      "Your Bank Details Here : \n",
      " Your Username is :Aman \n",
      " Your Balance is :100\n"
     ]
    }
   ],
   "source": [
    "p1=Bank_Acc(\"Aman\",100)"
   ]
  },
  {
   "cell_type": "code",
   "execution_count": 9,
   "id": "879465b3-5db3-4e0a-af6c-b30aac77f17b",
   "metadata": {},
   "outputs": [
    {
     "name": "stdout",
     "output_type": "stream",
     "text": [
      "Your Current Balance is :100\n"
     ]
    }
   ],
   "source": [
    "p1.check_bal()"
   ]
  },
  {
   "cell_type": "code",
   "execution_count": 11,
   "id": "9e73cbd7-f16c-4f83-8dd1-3a32a4f9dab9",
   "metadata": {},
   "outputs": [
    {
     "name": "stdout",
     "output_type": "stream",
     "text": [
      "your amount has been transfered\n",
      "Now your updating amount is :150\n"
     ]
    }
   ],
   "source": [
    "p1.deposite(50)"
   ]
  },
  {
   "cell_type": "code",
   "execution_count": 13,
   "id": "bd38484f-1689-495e-8566-a6dedc199a39",
   "metadata": {},
   "outputs": [
    {
     "name": "stdout",
     "output_type": "stream",
     "text": [
      "your amount has been detected\n",
      "Now your updating amount is :50\n"
     ]
    }
   ],
   "source": [
    "p1.with_draw(100)"
   ]
  },
  {
   "cell_type": "code",
   "execution_count": 15,
   "id": "48c44dc0-99b7-4777-b2e6-f800da7150e4",
   "metadata": {},
   "outputs": [],
   "source": [
    "p1.set_name(\"M.Aman\")"
   ]
  },
  {
   "cell_type": "code",
   "execution_count": null,
   "id": "2f96d55b-e824-491e-9338-70e771d61317",
   "metadata": {},
   "outputs": [],
   "source": [
    "p1."
   ]
  }
 ],
 "metadata": {
  "kernelspec": {
   "display_name": "Python [conda env:base] *",
   "language": "python",
   "name": "conda-base-py"
  },
  "language_info": {
   "codemirror_mode": {
    "name": "ipython",
    "version": 3
   },
   "file_extension": ".py",
   "mimetype": "text/x-python",
   "name": "python",
   "nbconvert_exporter": "python",
   "pygments_lexer": "ipython3",
   "version": "3.12.7"
  }
 },
 "nbformat": 4,
 "nbformat_minor": 5
}
